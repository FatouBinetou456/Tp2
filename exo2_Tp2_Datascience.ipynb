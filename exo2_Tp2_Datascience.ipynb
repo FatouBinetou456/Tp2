{
 "cells": [
  {
   "cell_type": "code",
   "execution_count": 1,
   "id": "da025639",
   "metadata": {},
   "outputs": [],
   "source": [
    "import pandas as pd\n",
    "B=pd.read_csv(\"boissons_evaluees.csv\")"
   ]
  },
  {
   "cell_type": "code",
   "execution_count": 2,
   "id": "39844e01",
   "metadata": {},
   "outputs": [
    {
     "name": "stdout",
     "output_type": "stream",
     "text": [
      "88.0\n"
     ]
    }
   ],
   "source": [
    "Moyenne_points=B.points.median()\n",
    "print(Moyenne_points)"
   ]
  },
  {
   "cell_type": "code",
   "execution_count": 3,
   "id": "f882d4b4",
   "metadata": {},
   "outputs": [
    {
     "name": "stdout",
     "output_type": "stream",
     "text": [
      "Les pays representés sont:  ['Italy' 'Portugal' 'US' 'Spain' 'France' 'Germany' 'Argentina' 'Chile'\n",
      " 'Australia' 'Austria' 'South Africa' 'New Zealand' 'Israel' 'Hungary'\n",
      " 'Greece' 'Romania' 'Mexico' 'Canada' nan 'Turkey' 'Czech Republic'\n",
      " 'Slovenia' 'Luxembourg' 'Croatia' 'Georgia' 'Uruguay' 'England' 'Lebanon'\n",
      " 'Serbia' 'Brazil' 'Moldova' 'Morocco' 'Peru' 'India' 'Bulgaria' 'Cyprus'\n",
      " 'Armenia' 'Switzerland' 'Bosnia and Herzegovina' 'Ukraine' 'Slovakia'\n",
      " 'Macedonia' 'China' 'Egypt']\n"
     ]
    }
   ],
   "source": [
    "Pays=B.country.unique()\n",
    "print(\"Les pays representés sont: \",Pays)"
   ]
  },
  {
   "cell_type": "code",
   "execution_count": 4,
   "id": "40366eb0",
   "metadata": {},
   "outputs": [
    {
     "data": {
      "text/plain": [
       "US                        54504\n",
       "France                    22093\n",
       "Italy                     19540\n",
       "Spain                      6645\n",
       "Portugal                   5691\n",
       "Chile                      4472\n",
       "Argentina                  3800\n",
       "Austria                    3345\n",
       "Australia                  2329\n",
       "Germany                    2165\n",
       "New Zealand                1419\n",
       "South Africa               1401\n",
       "Israel                      505\n",
       "Greece                      466\n",
       "Canada                      257\n",
       "Hungary                     146\n",
       "Bulgaria                    141\n",
       "Romania                     120\n",
       "Uruguay                     109\n",
       "Turkey                       90\n",
       "Slovenia                     87\n",
       "Georgia                      86\n",
       "England                      74\n",
       "Croatia                      73\n",
       "Mexico                       70\n",
       "Moldova                      59\n",
       "Brazil                       52\n",
       "Lebanon                      35\n",
       "Morocco                      28\n",
       "Peru                         16\n",
       "Ukraine                      14\n",
       "Macedonia                    12\n",
       "Serbia                       12\n",
       "Czech Republic               12\n",
       "Cyprus                       11\n",
       "India                         9\n",
       "Switzerland                   7\n",
       "Luxembourg                    6\n",
       "Bosnia and Herzegovina        2\n",
       "Armenia                       2\n",
       "Egypt                         1\n",
       "Slovakia                      1\n",
       "China                         1\n",
       "Name: country, dtype: int64"
      ]
     },
     "execution_count": 4,
     "metadata": {},
     "output_type": "execute_result"
    }
   ],
   "source": [
    "Frequence_pays=B.country.value_counts()\n",
    "Frequence_pays"
   ]
  },
  {
   "cell_type": "code",
   "execution_count": 6,
   "id": "3c6bfeb1",
   "metadata": {},
   "outputs": [
    {
     "data": {
      "text/plain": [
       "country\n",
       "Argentina                 18\n",
       "Armenia                    2\n",
       "Australia                 21\n",
       "Austria                   17\n",
       "Bosnia and Herzegovina     2\n",
       "Brazil                    10\n",
       "Bulgaria                  11\n",
       "Canada                    13\n",
       "Chile                     16\n",
       "China                      1\n",
       "Croatia                   11\n",
       "Cyprus                     4\n",
       "Czech Republic             5\n",
       "Egypt                      1\n",
       "England                    7\n",
       "France                    21\n",
       "Georgia                   10\n",
       "Germany                   18\n",
       "Greece                    12\n",
       "Hungary                   16\n",
       "India                      6\n",
       "Israel                    15\n",
       "Italy                     21\n",
       "Lebanon                   10\n",
       "Luxembourg                 3\n",
       "Macedonia                  6\n",
       "Mexico                    13\n",
       "Moldova                   10\n",
       "Morocco                    8\n",
       "New Zealand               16\n",
       "Peru                       7\n",
       "Portugal                  21\n",
       "Romania                   10\n",
       "Serbia                     4\n",
       "Slovakia                   1\n",
       "Slovenia                  11\n",
       "South Africa              14\n",
       "Spain                     19\n",
       "Switzerland                3\n",
       "Turkey                     9\n",
       "US                        21\n",
       "Ukraine                    6\n",
       "Uruguay                   13\n",
       "dtype: int64"
      ]
     },
     "execution_count": 6,
     "metadata": {},
     "output_type": "execute_result"
    }
   ],
   "source": [
    "from pandas import Series\n",
    "boisson_pays=B.groupby(\"country\").points.unique()\n",
    "boisson_pays\n",
    "critique=[]\n",
    "for i in range (len(boisson_pays.index)):\n",
    "    critique.append(len(boisson_pays[i]))\n",
    "serie_boisson=Series(critique,index=boisson_pays.index)\n",
    "serie_boisson"
   ]
  },
  {
   "cell_type": "code",
   "execution_count": null,
   "id": "34334bf9",
   "metadata": {},
   "outputs": [],
   "source": [
    "import numpy as np\n",
    "prix_mean=np.nanmean(B.price)\n",
    "prix_centre=B.price.map(lambda p:p-prix_mean)\n",
    "prix_centre"
   ]
  },
  {
   "cell_type": "code",
   "execution_count": null,
   "id": "4b7b2bb1",
   "metadata": {},
   "outputs": [],
   "source": [
    "qualite_prix=B.points/B.price\n",
    "boisson_negociee=B.title[np.argmax(qualite_prix)]\n",
    "print(\"La boisson avec le meilleur rapport qualité/prix est le \",boisson_negociee)"
   ]
  }
 ],
 "metadata": {
  "kernelspec": {
   "display_name": "Python 3",
   "language": "python",
   "name": "python3"
  },
  "language_info": {
   "codemirror_mode": {
    "name": "ipython",
    "version": 3
   },
   "file_extension": ".py",
   "mimetype": "text/x-python",
   "name": "python",
   "nbconvert_exporter": "python",
   "pygments_lexer": "ipython3",
   "version": "3.8.8"
  }
 },
 "nbformat": 4,
 "nbformat_minor": 5
}
