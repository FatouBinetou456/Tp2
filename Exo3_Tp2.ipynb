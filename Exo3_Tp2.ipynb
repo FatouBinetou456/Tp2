{
 "cells": [
  {
   "cell_type": "code",
   "execution_count": 18,
   "id": "b26dd480",
   "metadata": {},
   "outputs": [],
   "source": [
    "import pandas as pd\n",
    "import numpy as np\n",
    "B=pd.read_csv(\"boissons_evaluees.csv\")"
   ]
  },
  {
   "cell_type": "code",
   "execution_count": 2,
   "id": "b9a51176",
   "metadata": {},
   "outputs": [
    {
     "data": {
      "text/plain": [
       "Index(['Unnamed: 0', 'country', 'description', 'designation', 'points',\n",
       "       'price', 'province', 'region_1', 'region_2', 'taster_name',\n",
       "       'taster_twitter_handle', 'title', 'variety', 'winery'],\n",
       "      dtype='object')"
      ]
     },
     "execution_count": 2,
     "metadata": {},
     "output_type": "execute_result"
    }
   ],
   "source": [
    "B.columns"
   ]
  },
  {
   "cell_type": "code",
   "execution_count": 41,
   "id": "d8ccb26f",
   "metadata": {},
   "outputs": [
    {
     "name": "stdout",
     "output_type": "stream",
     "text": [
      "Int64Index([88, 87, 90, 86, 89, 91], dtype='int64')\n"
     ]
    },
    {
     "data": {
      "text/plain": [
       "@vossroger          25514\n",
       "@wineschach         15134\n",
       "@kerinokeefe        10776\n",
       "@vboone              9537\n",
       "@paulgwine           9532\n",
       "@mattkettmann        6332\n",
       "@JoeCz               5147\n",
       "@wawinereport        4966\n",
       "@gordone_cellars     4177\n",
       "@AnneInVino          3685\n",
       "@laurbuzz            1835\n",
       "@suskostrzewa        1085\n",
       "@worldwineguys       1005\n",
       "@bkfiona               27\n",
       "@winewchristina         6\n",
       "Name: taster_twitter_handle, dtype: int64"
      ]
     },
     "execution_count": 41,
     "metadata": {},
     "output_type": "execute_result"
    }
   ],
   "source": [
    "bf=B.points.value_counts()\n",
    "print(\"Les critiques les plus frequentes sont: \",bf.index[0:6])\n",
    "Critique=B.taster_twitter_handle.value_counts()\n",
    "Critique"
   ]
  },
  {
   "cell_type": "code",
   "execution_count": 8,
   "id": "e1912495",
   "metadata": {},
   "outputs": [
    {
     "name": "stdout",
     "output_type": "stream",
     "text": [
      "Entrez la somme:5\n",
      "La meilleure boisson est 64590                         Bandit NV Merlot (California)\n",
      "126096    Cramele Recas 2011 UnWineD Pinot Grigio (Viile...\n",
      "Name: title, dtype: object\n"
     ]
    }
   ],
   "source": [
    "somme_donnee=int(input(\"Entrez la somme:\"))\n",
    "g=B.loc[B.loc[:,\"price\"]<=somme_donnee]\n",
    "meilleure=g.points/g.price\n",
    "g.insert(2,\"best\",meilleure,allow_duplicates=False)\n",
    "meilleure_boisson=g.loc[g.loc[:,\"best\"]==np.nanmax(meilleure)]\n",
    "print(\"La meilleure boisson est\", meilleure_boisson.title)"
   ]
  },
  {
   "cell_type": "code",
   "execution_count": 12,
   "id": "841891ba",
   "metadata": {},
   "outputs": [
    {
     "data": {
      "text/plain": [
       "price\n",
       "4.0        86\n",
       "5.0        87\n",
       "790.0      87\n",
       "181.0      88\n",
       "3300.0     88\n",
       "         ... \n",
       "617.0     100\n",
       "450.0     100\n",
       "650.0     100\n",
       "460.0     100\n",
       "150.0     100\n",
       "Name: points, Length: 390, dtype: int64"
      ]
     },
     "execution_count": 12,
     "metadata": {},
     "output_type": "execute_result"
    }
   ],
   "source": [
    "tri_bois=B.groupby('price').points.max()\n",
    "boiss_tri=tri_bois.sort_values(ascending=True)\n",
    "boiss_tri"
   ]
  },
  {
   "cell_type": "code",
   "execution_count": 14,
   "id": "3dd4a059",
   "metadata": {},
   "outputs": [
    {
     "name": "stdout",
     "output_type": "stream",
     "text": [
      "variety\n",
      "Abouriou       15.0\n",
      "Agiorgitiko    10.0\n",
      "Aglianico       6.0\n",
      "Aidani         27.0\n",
      "Airen           8.0\n",
      "               ... \n",
      "Zinfandel       5.0\n",
      "Zlahtina       13.0\n",
      "Zweigelt        9.0\n",
      "Çalkarası      19.0\n",
      "Žilavka        15.0\n",
      "Name: price, Length: 707, dtype: float64\n"
     ]
    },
    {
     "data": {
      "text/plain": [
       "variety\n",
       "Abouriou        75.0\n",
       "Agiorgitiko     66.0\n",
       "Aglianico      180.0\n",
       "Aidani          27.0\n",
       "Airen           10.0\n",
       "               ...  \n",
       "Zinfandel      100.0\n",
       "Zlahtina        16.0\n",
       "Zweigelt        70.0\n",
       "Çalkarası       19.0\n",
       "Žilavka         15.0\n",
       "Name: price, Length: 707, dtype: float64"
      ]
     },
     "execution_count": 14,
     "metadata": {},
     "output_type": "execute_result"
    }
   ],
   "source": [
    "var_min=B.groupby('variety').price.min()\n",
    "var_max=B.groupby('variety').price.max()\n",
    "print(var_min)\n",
    "var_max"
   ]
  },
  {
   "cell_type": "code",
   "execution_count": 16,
   "id": "d292f4ac",
   "metadata": {},
   "outputs": [
    {
     "data": {
      "text/html": [
       "<div><div id=94988708-c890-4a4f-8e25-4ee9b42d3a7e style=\"display:none; background-color:#9D6CFF; color:white; width:200px; height:30px; padding-left:5px; border-radius:4px; flex-direction:row; justify-content:space-around; align-items:center;\" onmouseover=\"this.style.backgroundColor='#BA9BF8'\" onmouseout=\"this.style.backgroundColor='#9D6CFF'\" onclick=\"window.commands?.execute('create-mitosheet-from-dataframe-output');\">See Full Dataframe in Mito</div> <script> if (window.commands.hasCommand('create-mitosheet-from-dataframe-output')) document.getElementById('94988708-c890-4a4f-8e25-4ee9b42d3a7e').style.display = 'flex' </script> <table border=\"1\" class=\"dataframe\">\n",
       "  <thead>\n",
       "    <tr style=\"text-align: right;\">\n",
       "      <th></th>\n",
       "      <th>Prix Min</th>\n",
       "      <th>Prix Max</th>\n",
       "    </tr>\n",
       "    <tr>\n",
       "      <th>variety</th>\n",
       "      <th></th>\n",
       "      <th></th>\n",
       "    </tr>\n",
       "  </thead>\n",
       "  <tbody>\n",
       "    <tr>\n",
       "      <th>Abouriou</th>\n",
       "      <td>15.0</td>\n",
       "      <td>75.0</td>\n",
       "    </tr>\n",
       "    <tr>\n",
       "      <th>Agiorgitiko</th>\n",
       "      <td>10.0</td>\n",
       "      <td>66.0</td>\n",
       "    </tr>\n",
       "    <tr>\n",
       "      <th>Aglianico</th>\n",
       "      <td>6.0</td>\n",
       "      <td>180.0</td>\n",
       "    </tr>\n",
       "    <tr>\n",
       "      <th>Aidani</th>\n",
       "      <td>27.0</td>\n",
       "      <td>27.0</td>\n",
       "    </tr>\n",
       "    <tr>\n",
       "      <th>Airen</th>\n",
       "      <td>8.0</td>\n",
       "      <td>10.0</td>\n",
       "    </tr>\n",
       "    <tr>\n",
       "      <th>...</th>\n",
       "      <td>...</td>\n",
       "      <td>...</td>\n",
       "    </tr>\n",
       "    <tr>\n",
       "      <th>Zinfandel</th>\n",
       "      <td>5.0</td>\n",
       "      <td>100.0</td>\n",
       "    </tr>\n",
       "    <tr>\n",
       "      <th>Zlahtina</th>\n",
       "      <td>13.0</td>\n",
       "      <td>16.0</td>\n",
       "    </tr>\n",
       "    <tr>\n",
       "      <th>Zweigelt</th>\n",
       "      <td>9.0</td>\n",
       "      <td>70.0</td>\n",
       "    </tr>\n",
       "    <tr>\n",
       "      <th>Çalkarası</th>\n",
       "      <td>19.0</td>\n",
       "      <td>19.0</td>\n",
       "    </tr>\n",
       "    <tr>\n",
       "      <th>Žilavka</th>\n",
       "      <td>15.0</td>\n",
       "      <td>15.0</td>\n",
       "    </tr>\n",
       "  </tbody>\n",
       "</table></div>"
      ],
      "text/plain": [
       "             Prix Min  Prix Max\n",
       "variety                        \n",
       "Abouriou         15.0      75.0\n",
       "Agiorgitiko      10.0      66.0\n",
       "Aglianico         6.0     180.0\n",
       "Aidani           27.0      27.0\n",
       "Airen             8.0      10.0\n",
       "...               ...       ...\n",
       "Zinfandel         5.0     100.0\n",
       "Zlahtina         13.0      16.0\n",
       "Zweigelt          9.0      70.0\n",
       "Çalkarası        19.0      19.0\n",
       "Žilavka          15.0      15.0\n",
       "\n",
       "[707 rows x 2 columns]"
      ]
     },
     "execution_count": 16,
     "metadata": {},
     "output_type": "execute_result"
    }
   ],
   "source": [
    "Var=pd.DataFrame({\"Prix Min\":var_min,\"Prix Max\":var_max})\n",
    "Var"
   ]
  },
  {
   "cell_type": "code",
   "execution_count": 20,
   "id": "c486ceae",
   "metadata": {},
   "outputs": [
    {
     "data": {
      "text/plain": [
       "taster_name\n",
       "Alexander Peartree    85.855422\n",
       "Anna Lee C. Iijima    88.415629\n",
       "Anne Krebiehl MW      90.562551\n",
       "Carrie Dykes          86.395683\n",
       "Christina Pickard     87.833333\n",
       "Fiona Adams           86.888889\n",
       "Jeff Jenssen          88.319756\n",
       "Jim Gordon            88.626287\n",
       "Joe Czerwinski        88.536235\n",
       "Kerin O’Keefe         88.867947\n",
       "Lauren Buzzeo         87.739510\n",
       "Matt Kettmann         90.008686\n",
       "Michael Schachner     86.907493\n",
       "Mike DeSimone         89.101167\n",
       "Paul Gregutt          89.082564\n",
       "Roger Voss            88.708003\n",
       "Sean P. Sullivan      88.755739\n",
       "Susan Kostrzewa       86.609217\n",
       "Virginie Boone        89.213379\n",
       "Name: points, dtype: float64"
      ]
     },
     "execution_count": 20,
     "metadata": {},
     "output_type": "execute_result"
    }
   ],
   "source": [
    "Moyenne_Taster=B.groupby('taster_name').points.mean()\n",
    "Moyenne_Taster"
   ]
  },
  {
   "cell_type": "code",
   "execution_count": 21,
   "id": "9bcab9bd",
   "metadata": {},
   "outputs": [
    {
     "name": "stdout",
     "output_type": "stream",
     "text": [
      "Sur  129971 avis,il manque  8996\n"
     ]
    }
   ],
   "source": [
    "prix_manquant=B[pd.isnull(B.price)]\n",
    "print(\"Sur \",len(B),\"avis,il manque \",len(prix_manquant))"
   ]
  },
  {
   "cell_type": "code",
   "execution_count": null,
   "id": "8975a0b2",
   "metadata": {},
   "outputs": [],
   "source": []
  }
 ],
 "metadata": {
  "kernelspec": {
   "display_name": "Python 3",
   "language": "python",
   "name": "python3"
  },
  "language_info": {
   "codemirror_mode": {
    "name": "ipython",
    "version": 3
   },
   "file_extension": ".py",
   "mimetype": "text/x-python",
   "name": "python",
   "nbconvert_exporter": "python",
   "pygments_lexer": "ipython3",
   "version": "3.8.8"
  }
 },
 "nbformat": 4,
 "nbformat_minor": 5
}
